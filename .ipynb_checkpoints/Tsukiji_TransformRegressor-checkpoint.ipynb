{
 "cells": [
  {
   "cell_type": "code",
   "execution_count": 106,
   "metadata": {},
   "outputs": [],
   "source": [
    "import pandas as pd \n",
    "from sklearn.linear_model import LinearRegression\n",
    "from sklearn.model_selection import train_test_split\n",
    "from sklearn.preprocessing import MinMaxScaler\n",
    "from sklearn.metrics import mean_squared_error\n",
    "import sklearn\n",
    "from sklearn.model_selection import cross_val_score\n",
    "from sklearn.model_selection import KFold\n",
    "from sklearn.pipeline import Pipeline\n",
    "from sklearn.compose import TransformedTargetRegressor\n",
    "from sklearn.linear_model import HuberRegressor\n",
    "import numpy as np\n",
    "from sklearn.preprocessing import LabelEncoder"
   ]
  },
  {
   "cell_type": "code",
   "execution_count": 95,
   "metadata": {},
   "outputs": [],
   "source": [
    "df_participant = pd.read_csv(\"fish_participant.csv\")\n",
    "df_holdout =  pd.read_csv(\"fish_holdout_demo.csv\")"
   ]
  },
  {
   "cell_type": "code",
   "execution_count": 96,
   "metadata": {
    "scrolled": true
   },
   "outputs": [
    {
     "data": {
      "text/html": [
       "<div>\n",
       "<style scoped>\n",
       "    .dataframe tbody tr th:only-of-type {\n",
       "        vertical-align: middle;\n",
       "    }\n",
       "\n",
       "    .dataframe tbody tr th {\n",
       "        vertical-align: top;\n",
       "    }\n",
       "\n",
       "    .dataframe thead th {\n",
       "        text-align: right;\n",
       "    }\n",
       "</style>\n",
       "<table border=\"1\" class=\"dataframe\">\n",
       "  <thead>\n",
       "    <tr style=\"text-align: right;\">\n",
       "      <th></th>\n",
       "      <th>Species</th>\n",
       "      <th>Weight</th>\n",
       "      <th>Length1</th>\n",
       "      <th>Length2</th>\n",
       "      <th>Length3</th>\n",
       "      <th>Height</th>\n",
       "      <th>Width</th>\n",
       "    </tr>\n",
       "  </thead>\n",
       "  <tbody>\n",
       "    <tr>\n",
       "      <th>0</th>\n",
       "      <td>Bream</td>\n",
       "      <td>430.0</td>\n",
       "      <td>26.5</td>\n",
       "      <td>29.0</td>\n",
       "      <td>34.0</td>\n",
       "      <td>12.4440</td>\n",
       "      <td>5.1340</td>\n",
       "    </tr>\n",
       "    <tr>\n",
       "      <th>1</th>\n",
       "      <td>Perch</td>\n",
       "      <td>110.0</td>\n",
       "      <td>20.0</td>\n",
       "      <td>22.0</td>\n",
       "      <td>23.5</td>\n",
       "      <td>5.5225</td>\n",
       "      <td>3.9950</td>\n",
       "    </tr>\n",
       "    <tr>\n",
       "      <th>2</th>\n",
       "      <td>Roach</td>\n",
       "      <td>160.0</td>\n",
       "      <td>20.5</td>\n",
       "      <td>22.5</td>\n",
       "      <td>25.3</td>\n",
       "      <td>7.0334</td>\n",
       "      <td>3.8203</td>\n",
       "    </tr>\n",
       "    <tr>\n",
       "      <th>3</th>\n",
       "      <td>Parkki</td>\n",
       "      <td>60.0</td>\n",
       "      <td>14.3</td>\n",
       "      <td>15.5</td>\n",
       "      <td>17.4</td>\n",
       "      <td>6.5772</td>\n",
       "      <td>2.3142</td>\n",
       "    </tr>\n",
       "    <tr>\n",
       "      <th>4</th>\n",
       "      <td>Bream</td>\n",
       "      <td>700.0</td>\n",
       "      <td>30.4</td>\n",
       "      <td>33.0</td>\n",
       "      <td>38.3</td>\n",
       "      <td>14.8604</td>\n",
       "      <td>5.2854</td>\n",
       "    </tr>\n",
       "  </tbody>\n",
       "</table>\n",
       "</div>"
      ],
      "text/plain": [
       "  Species  Weight  Length1  Length2  Length3   Height   Width\n",
       "0   Bream   430.0     26.5     29.0     34.0  12.4440  5.1340\n",
       "1   Perch   110.0     20.0     22.0     23.5   5.5225  3.9950\n",
       "2   Roach   160.0     20.5     22.5     25.3   7.0334  3.8203\n",
       "3  Parkki    60.0     14.3     15.5     17.4   6.5772  2.3142\n",
       "4   Bream   700.0     30.4     33.0     38.3  14.8604  5.2854"
      ]
     },
     "execution_count": 96,
     "metadata": {},
     "output_type": "execute_result"
    }
   ],
   "source": [
    "df_participant.head()"
   ]
  },
  {
   "cell_type": "code",
   "execution_count": 150,
   "metadata": {},
   "outputs": [
    {
     "name": "stdout",
     "output_type": "stream",
     "text": [
      "(111, 3) (111, 1)\n"
     ]
    }
   ],
   "source": [
    "X = df_participant[[\"Length3\",\"Height\",\"Width\"]]\n",
    "y = df_participant[\"Weight\"].values.reshape(-1, 1)\n",
    "print(X.shape, y.shape)"
   ]
  },
  {
   "cell_type": "code",
   "execution_count": 151,
   "metadata": {},
   "outputs": [],
   "source": [
    "\n",
    "X_train, X_test, y_train, y_test = train_test_split(X, y, random_state=42)"
   ]
  },
  {
   "cell_type": "code",
   "execution_count": 152,
   "metadata": {},
   "outputs": [],
   "source": [
    "X_scaler = MinMaxScaler().fit(X_train)\n",
    "X_train_scaled = X_scaler.transform(X_train)\n",
    "X_test_scaled = X_scaler.transform(X_test)"
   ]
  },
  {
   "cell_type": "code",
   "execution_count": 153,
   "metadata": {
    "scrolled": true
   },
   "outputs": [
    {
     "data": {
      "text/plain": [
       "array([[ 188. ],\n",
       "       [ 840. ],\n",
       "       [ 200. ],\n",
       "       [ 720. ],\n",
       "       [ 242. ],\n",
       "       [   9.7],\n",
       "       [ 290. ],\n",
       "       [ 150. ],\n",
       "       [   7.5],\n",
       "       [ 265. ],\n",
       "       [  40. ],\n",
       "       [ 150. ],\n",
       "       [   8.7],\n",
       "       [ 363. ],\n",
       "       [ 567. ],\n",
       "       [ 690. ],\n",
       "       [ 900. ],\n",
       "       [ 110. ],\n",
       "       [ 390. ],\n",
       "       [ 250. ],\n",
       "       [ 950. ],\n",
       "       [ 700. ],\n",
       "       [ 430. ],\n",
       "       [  70. ],\n",
       "       [ 650. ],\n",
       "       [ 160. ],\n",
       "       [ 169. ],\n",
       "       [  87. ],\n",
       "       [   6.7],\n",
       "       [1000. ],\n",
       "       [  19.7],\n",
       "       [1550. ],\n",
       "       [ 680. ],\n",
       "       [1100. ],\n",
       "       [  60. ],\n",
       "       [ 500. ],\n",
       "       [ 145. ],\n",
       "       [1000. ],\n",
       "       [ 700. ],\n",
       "       [   5.9],\n",
       "       [   9.8],\n",
       "       [ 290. ],\n",
       "       [ 850. ],\n",
       "       [  10. ],\n",
       "       [ 300. ],\n",
       "       [ 500. ],\n",
       "       [ 145. ],\n",
       "       [ 170. ],\n",
       "       [ 140. ],\n",
       "       [1000. ],\n",
       "       [1000. ],\n",
       "       [ 540. ],\n",
       "       [ 456. ],\n",
       "       [ 345. ],\n",
       "       [ 218. ],\n",
       "       [ 145. ],\n",
       "       [ 150. ],\n",
       "       [ 320. ],\n",
       "       [ 500. ],\n",
       "       [1100. ],\n",
       "       [ 110. ],\n",
       "       [ 714. ],\n",
       "       [ 115. ],\n",
       "       [ 161. ],\n",
       "       [ 110. ],\n",
       "       [ 300. ],\n",
       "       [ 650. ],\n",
       "       [ 160. ],\n",
       "       [ 700. ],\n",
       "       [ 300. ],\n",
       "       [  13.4],\n",
       "       [ 260. ],\n",
       "       [ 700. ],\n",
       "       [ 450. ],\n",
       "       [ 300. ],\n",
       "       [  85. ],\n",
       "       [ 920. ],\n",
       "       [  40. ],\n",
       "       [ 197. ],\n",
       "       [ 500. ],\n",
       "       [  69. ],\n",
       "       [ 273. ],\n",
       "       [ 120. ]])"
      ]
     },
     "execution_count": 153,
     "metadata": {},
     "output_type": "execute_result"
    }
   ],
   "source": [
    "y_train"
   ]
  },
  {
   "cell_type": "code",
   "execution_count": null,
   "metadata": {},
   "outputs": [],
   "source": [
    "#label_encoder = LabelEncoder()\n",
    "#label_encoder.fit(y_train)"
   ]
  },
  {
   "cell_type": "code",
   "execution_count": null,
   "metadata": {},
   "outputs": [],
   "source": [
    "#encoded_y_train = label_encoder.transform(y_train)\n",
    "#encoded_y_test = label_encoder.transform(y_test)\n",
    "#encoded_y_train"
   ]
  },
  {
   "cell_type": "code",
   "execution_count": 109,
   "metadata": {},
   "outputs": [],
   "source": [
    "lr = LinearRegression()"
   ]
  },
  {
   "cell_type": "code",
   "execution_count": 113,
   "metadata": {},
   "outputs": [
    {
     "data": {
      "text/plain": [
       "LinearRegression(copy_X=True, fit_intercept=True, n_jobs=None, normalize=False)"
      ]
     },
     "execution_count": 113,
     "metadata": {},
     "output_type": "execute_result"
    }
   ],
   "source": [
    "lr.fit(X_train_scaled, y_train)"
   ]
  },
  {
   "cell_type": "code",
   "execution_count": 122,
   "metadata": {},
   "outputs": [],
   "source": [
    "y_pred = lr.predict(X_test_scaled)"
   ]
  },
  {
   "cell_type": "code",
   "execution_count": 158,
   "metadata": {},
   "outputs": [
    {
     "data": {
      "text/plain": [
       "339779.8237393941"
      ]
     },
     "execution_count": 158,
     "metadata": {},
     "output_type": "execute_result"
    }
   ],
   "source": [
    "mean_squared_error(y_test, y_pred)"
   ]
  },
  {
   "cell_type": "code",
   "execution_count": 124,
   "metadata": {},
   "outputs": [
    {
     "name": "stdout",
     "output_type": "stream",
     "text": [
      "The scikit-learn version is 0.22.2.post1.\n"
     ]
    }
   ],
   "source": [
    "\n",
    "print('The scikit-learn version is {}.'.format(sklearn.__version__))"
   ]
  },
  {
   "cell_type": "code",
   "execution_count": 125,
   "metadata": {},
   "outputs": [],
   "source": [
    "#using Regressor\n",
    "# define the target transform wrapper\n",
    "wrapped_model = TransformedTargetRegressor(regressor=LinearRegression(), transformer=MinMaxScaler())"
   ]
  },
  {
   "cell_type": "code",
   "execution_count": 126,
   "metadata": {},
   "outputs": [],
   "source": [
    "# use the target transform wrapper\n",
    "wrapped_model.fit(X_train, y_train)\n",
    "yhat = wrapped_model.predict(X_test)"
   ]
  },
  {
   "cell_type": "code",
   "execution_count": 127,
   "metadata": {},
   "outputs": [
    {
     "data": {
      "text/plain": [
       "array([[-178.96672625],\n",
       "       [ 855.87540882],\n",
       "       [ 608.2800301 ],\n",
       "       [1030.59756166],\n",
       "       [ 806.46261116],\n",
       "       [ 570.06881246],\n",
       "       [ 439.32868927],\n",
       "       [ 518.46022176],\n",
       "       [ 364.20054148],\n",
       "       [ 624.73164891],\n",
       "       [ 186.36827912],\n",
       "       [ 811.17558836],\n",
       "       [ 517.84480979],\n",
       "       [ 413.59723077],\n",
       "       [-178.90322563],\n",
       "       [ 863.56866739],\n",
       "       [ 293.20835637],\n",
       "       [ 188.69682029],\n",
       "       [ 722.82003341],\n",
       "       [ 620.50915466],\n",
       "       [ 348.6606034 ],\n",
       "       [ 755.18541784],\n",
       "       [ 226.06579673],\n",
       "       [ 575.10932309],\n",
       "       [  -3.57709379],\n",
       "       [ 107.03458213],\n",
       "       [ 635.71654492],\n",
       "       [ 341.4544723 ]])"
      ]
     },
     "execution_count": 127,
     "metadata": {},
     "output_type": "execute_result"
    }
   ],
   "source": [
    "yhat"
   ]
  },
  {
   "cell_type": "code",
   "execution_count": 148,
   "metadata": {},
   "outputs": [
    {
     "data": {
      "text/plain": [
       "11062.325465409347"
      ]
     },
     "execution_count": 148,
     "metadata": {},
     "output_type": "execute_result"
    }
   ],
   "source": [
    "from sklearn.metrics import mean_squared_error\n",
    "mean_squared_error(y_test, yhat)"
   ]
  },
  {
   "cell_type": "code",
   "execution_count": 133,
   "metadata": {},
   "outputs": [
    {
     "name": "stdout",
     "output_type": "stream",
     "text": [
      "MSE: 2.339964999172672e-26, R2: 1.0\n"
     ]
    }
   ],
   "source": [
    "# Used X_test_scaled, y_pred_scaled, and model.predict(X_test_scaled) to calculate MSE and R2\n",
    "\n",
    "\n",
    "\n",
    "MSE = mean_squared_error(y_pred, yhat)\n",
    "r2 = wrapped_model.score(X_test, yhat)\n",
    "\n",
    "print(f\"MSE: {MSE}, R2: {r2}\")"
   ]
  },
  {
   "cell_type": "code",
   "execution_count": 136,
   "metadata": {},
   "outputs": [],
   "source": [
    "def train(df_participant):\n",
    "    \n",
    "    X = df_participant[[\"Length3\",\"Height\",\"Width\"]].values\n",
    "    y = df_participant[\"Weight\"] ** -1\n",
    "    \n",
    "    lr = LinearRegression()\n",
    "    \n",
    "    lr.fit(X, y)\n",
    "    \n",
    "    return lr"
   ]
  },
  {
   "cell_type": "code",
   "execution_count": 162,
   "metadata": {},
   "outputs": [],
   "source": [
    "def predict(df_participant, wrapped_model):\n",
    "    \n",
    "    X = df_participant[[\"Length3\",\"Height\",\"Width\"]]\n",
    "    y_pred = wrapped_model.predict(X)\n",
    "    \n",
    "    return y_pred ** -1"
   ]
  },
  {
   "cell_type": "code",
   "execution_count": 141,
   "metadata": {},
   "outputs": [],
   "source": [
    "model = train(df_participant)"
   ]
  },
  {
   "cell_type": "code",
   "execution_count": 154,
   "metadata": {},
   "outputs": [],
   "source": [
    "y_pred = predict(df_demo_holdout, model)"
   ]
  },
  {
   "cell_type": "code",
   "execution_count": 155,
   "metadata": {},
   "outputs": [],
   "source": [
    "y_true = df_holdout[\"Weight\"].values"
   ]
  },
  {
   "cell_type": "code",
   "execution_count": 163,
   "metadata": {},
   "outputs": [
    {
     "data": {
      "text/plain": [
       "array([   34.30427195,    34.32944061,    17.02813082,    83.47582154,\n",
       "          83.72566383,    41.86952652,   188.05321807,    17.21909128,\n",
       "         515.99957383,    71.98300306,   117.71236383,    44.66468339,\n",
       "          51.85291403,    25.94767375,    98.47269121,   328.42303758,\n",
       "          17.07603936, -1296.35920263,    34.01917165,    29.58478009,\n",
       "          75.32308604,   -87.39891032,    36.80940107,   -55.16588377,\n",
       "         -92.23983214,   -65.21390862,    29.14972194,    37.8891482 ])"
      ]
     },
     "execution_count": 163,
     "metadata": {},
     "output_type": "execute_result"
    }
   ],
   "source": [
    "y_pred"
   ]
  },
  {
   "cell_type": "code",
   "execution_count": 164,
   "metadata": {},
   "outputs": [
    {
     "data": {
      "text/plain": [
       "329776.1492039548"
      ]
     },
     "execution_count": 164,
     "metadata": {},
     "output_type": "execute_result"
    }
   ],
   "source": [
    "mean_squared_error(y_true, y_pred)"
   ]
  },
  {
   "cell_type": "code",
   "execution_count": null,
   "metadata": {},
   "outputs": [],
   "source": []
  }
 ],
 "metadata": {
  "kernelspec": {
   "display_name": "Python 3.7.3 64-bit ('Tsukiji-fish-market-of-Tokyo': pipenv)",
   "language": "python",
   "name": "python37364bittsukijifishmarketoftokyopipenv6711fb03a3a24312a243a1fd08441e0a"
  },
  "language_info": {
   "codemirror_mode": {
    "name": "ipython",
    "version": 3
   },
   "file_extension": ".py",
   "mimetype": "text/x-python",
   "name": "python",
   "nbconvert_exporter": "python",
   "pygments_lexer": "ipython3",
   "version": "3.7.3"
  }
 },
 "nbformat": 4,
 "nbformat_minor": 2
}
